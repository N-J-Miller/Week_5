{
 "cells": [
  {
   "cell_type": "markdown",
   "id": "935c488a",
   "metadata": {},
   "source": [
    "### 1. Make a function that can take any non-negative integer as an argument and return it with its digits in descending order. Essentially, rearrange the digits to create the highest possible number. If no number is passed in, make the default value inputted = 111111.\n",
    "Input = 43905 Output = 95430\n",
    "\n",
    "Input = 584366 Output = 866543"
   ]
  },
  {
   "cell_type": "code",
   "execution_count": 1,
   "id": "b12c2ed3",
   "metadata": {},
   "outputs": [],
   "source": [
    "import pandas as pd\n",
    "import numpy as np\n",
    "import matplotlib.pyplot as plt"
   ]
  },
  {
   "cell_type": "code",
   "execution_count": 2,
   "id": "39ee2272",
   "metadata": {},
   "outputs": [
    {
     "name": "stdout",
     "output_type": "stream",
     "text": [
      "9876530 invalid input 111111\n"
     ]
    }
   ],
   "source": [
    "# Function definition is here, default values defined along with function.\n",
    "def highestnumber(n=111111):\n",
    "    \"This prints digits of any input non-negative integer in descending order\"\n",
    "    if n >= 0:\n",
    "        return int(\"\".join(sorted(str(n), reverse = True)))\n",
    "    else: \n",
    "        return \"invalid input\"\n",
    "            \n",
    "# Now you can call function\n",
    "print(highestnumber(8675309), highestnumber(-222567), highestnumber())"
   ]
  },
  {
   "cell_type": "markdown",
   "id": "858b4ecb",
   "metadata": {},
   "source": [
    "### 2. Import jeopardy.csv and create a dataframe from the data. Find out the following:\n",
    "a. How many rows are there in the dataframe? What does a row represent?\n",
    "\n",
    "b. How many unique shows were there each year?\n",
    "\n",
    "c. Think of another question that this data can help answer. Make that question a header in your notebook.\n",
    "\n",
    "d. Answer your question and show the steps you used to do so clearly."
   ]
  },
  {
   "cell_type": "code",
   "execution_count": 5,
   "id": "89f1f17e",
   "metadata": {},
   "outputs": [],
   "source": [
    "#import csv\n",
    "\n",
    "JEOPARDY_CSV_path = \"C:/Users/Nik/Documents/LaunchCoderGirlSTL/JEOPARDY_CSV.csv\"\n",
    "JEOPARDY_df = pd.read_csv(JEOPARDY_CSV_path)"
   ]
  },
  {
   "cell_type": "markdown",
   "id": "42e353b2",
   "metadata": {},
   "source": [
    "2.a) How many rows are there in the dataframe? What does a row represent?"
   ]
  },
  {
   "cell_type": "code",
   "execution_count": 6,
   "id": "97ad271d",
   "metadata": {},
   "outputs": [
    {
     "name": "stdout",
     "output_type": "stream",
     "text": [
      "216930\n"
     ]
    }
   ],
   "source": [
    "print(len(JEOPARDY_df))\n",
    "\n",
    "#There are 216930 rows in the data frame. The rows represents correct answers from the game show Jeapordy! \n",
    "# with their corresponding question, the dollar value of giving the correct answer, category of question, \n",
    "# type of game round, air date, and episode number."
   ]
  },
  {
   "cell_type": "markdown",
   "id": "dae74cb5",
   "metadata": {},
   "source": [
    "2.b) How many unique shows were there each year?"
   ]
  },
  {
   "cell_type": "code",
   "execution_count": 7,
   "id": "8edb9be4",
   "metadata": {},
   "outputs": [
    {
     "data": {
      "text/html": [
       "<div>\n",
       "<style scoped>\n",
       "    .dataframe tbody tr th:only-of-type {\n",
       "        vertical-align: middle;\n",
       "    }\n",
       "\n",
       "    .dataframe tbody tr th {\n",
       "        vertical-align: top;\n",
       "    }\n",
       "\n",
       "    .dataframe thead th {\n",
       "        text-align: right;\n",
       "    }\n",
       "</style>\n",
       "<table border=\"1\" class=\"dataframe\">\n",
       "  <thead>\n",
       "    <tr style=\"text-align: right;\">\n",
       "      <th>Air Date</th>\n",
       "      <th>1984</th>\n",
       "      <th>1985</th>\n",
       "      <th>1986</th>\n",
       "      <th>1987</th>\n",
       "      <th>1988</th>\n",
       "      <th>1989</th>\n",
       "      <th>1990</th>\n",
       "      <th>1991</th>\n",
       "      <th>1992</th>\n",
       "      <th>1993</th>\n",
       "      <th>...</th>\n",
       "      <th>2003</th>\n",
       "      <th>2004</th>\n",
       "      <th>2005</th>\n",
       "      <th>2006</th>\n",
       "      <th>2007</th>\n",
       "      <th>2008</th>\n",
       "      <th>2009</th>\n",
       "      <th>2010</th>\n",
       "      <th>2011</th>\n",
       "      <th>2012</th>\n",
       "    </tr>\n",
       "  </thead>\n",
       "  <tbody>\n",
       "    <tr>\n",
       "      <th>Number of Shows</th>\n",
       "      <td>23</td>\n",
       "      <td>16</td>\n",
       "      <td>25</td>\n",
       "      <td>22</td>\n",
       "      <td>22</td>\n",
       "      <td>36</td>\n",
       "      <td>73</td>\n",
       "      <td>24</td>\n",
       "      <td>32</td>\n",
       "      <td>35</td>\n",
       "      <td>...</td>\n",
       "      <td>158</td>\n",
       "      <td>220</td>\n",
       "      <td>225</td>\n",
       "      <td>230</td>\n",
       "      <td>231</td>\n",
       "      <td>232</td>\n",
       "      <td>226</td>\n",
       "      <td>231</td>\n",
       "      <td>224</td>\n",
       "      <td>19</td>\n",
       "    </tr>\n",
       "  </tbody>\n",
       "</table>\n",
       "<p>1 rows × 29 columns</p>\n",
       "</div>"
      ],
      "text/plain": [
       " Air Date        1984  1985  1986  1987  1988  1989  1990  1991  1992  1993  \\\n",
       "Number of Shows    23    16    25    22    22    36    73    24    32    35   \n",
       "\n",
       " Air Date        ...  2003  2004  2005  2006  2007  2008  2009  2010  2011  \\\n",
       "Number of Shows  ...   158   220   225   230   231   232   226   231   224   \n",
       "\n",
       " Air Date        2012  \n",
       "Number of Shows    19  \n",
       "\n",
       "[1 rows x 29 columns]"
      ]
     },
     "execution_count": 7,
     "metadata": {},
     "output_type": "execute_result"
    }
   ],
   "source": [
    "JEOPARDY_df.groupby(' Air Date')['Show Number'].agg(pd.Series.drop_duplicates)\n",
    "#JEOPARDY_df.drop_duplicates(subset=[' Air Date', 'Show Number'])\n",
    "#print(len(jeopardy_df))\n",
    "JEOPARDY_df[' Air Date'] = pd.to_datetime(JEOPARDY_df[' Air Date'])\n",
    "#JEOPARDY_df['Year'] = JEOPARDY_df[' Air Date'].dt.year\n",
    "Unique_Shows_per_Year = pd.DataFrame(JEOPARDY_df.groupby(JEOPARDY_df[' Air Date'].dt.year)['Show Number'].nunique())\n",
    "Unique_Shows_per_Year.columns = ['Number of Shows']\n",
    "Unique_Shows_per_Year.T"
   ]
  },
  {
   "cell_type": "markdown",
   "id": "07a2f0b7",
   "metadata": {},
   "source": [
    "2.c)Think of another question that this data can help answer. Make that question a header in your notebook."
   ]
  },
  {
   "cell_type": "markdown",
   "id": "15bd12ac",
   "metadata": {},
   "source": [
    "## On average, how many answers were given per Jeopardy! show?"
   ]
  },
  {
   "cell_type": "code",
   "execution_count": 9,
   "id": "c4444ee7",
   "metadata": {},
   "outputs": [
    {
     "data": {
      "text/plain": [
       "59.5956043956044"
      ]
     },
     "execution_count": 9,
     "metadata": {},
     "output_type": "execute_result"
    }
   ],
   "source": [
    "# I can answer my question by taking the total number of answers and dividing that by the number of unique shows. \n",
    "# To do this, I called the number of elements in JEOPARDY_df[' Answer'] divided by\n",
    "# unique values in JEOPARDY_df['Show Number']\n",
    "\n",
    "Avg_Number_of_Answers_per_Show = JEOPARDY_df[' Answer'].count() / JEOPARDY_df['Show Number'].nunique()\n",
    "Avg_Number_of_Answers_per_Show"
   ]
  },
  {
   "cell_type": "markdown",
   "id": "22536a01",
   "metadata": {},
   "source": [
    "3. Create any graph using matplotlib that helps you understand the jeopardy data. Explain what your graph shows and why it is useful."
   ]
  },
  {
   "cell_type": "code",
   "execution_count": 10,
   "id": "447bc095",
   "metadata": {},
   "outputs": [
    {
     "data": {
      "image/png": "[encoded data removed]",
      "text/plain": [
       "<Figure size 432x288 with 1 Axes>"
      ]
     },
     "metadata": {
      "needs_background": "light"
     },
     "output_type": "display_data"
    }
   ],
   "source": [
    "Unique_Shows_per_Year.plot(kind='line')\n",
    "plt.xticks(rotation = 45)\n",
    "plt.show()"
   ]
  },
  {
   "cell_type": "markdown",
   "id": "8f0a22a0",
   "metadata": {},
   "source": [
    "This plot illustrates the number of shows per year, giving one an idea of when the show was most popular. Using a line graph visualizes the data as a trend line that makes it easier to understand from a glance."
   ]
  },
  {
   "cell_type": "code",
   "execution_count": null,
   "id": "5dce6b98",
   "metadata": {},
   "outputs": [],
   "source": []
  }
 ],
 "metadata": {
  "kernelspec": {
   "display_name": "Python 3 (ipykernel)",
   "language": "python",
   "name": "python3"
  },
  "language_info": {
   "codemirror_mode": {
    "name": "ipython",
    "version": 3
   },
   "file_extension": ".py",
   "mimetype": "text/x-python",
   "name": "python",
   "nbconvert_exporter": "python",
   "pygments_lexer": "ipython3",
   "version": "3.9.7"
  }
 },
 "nbformat": 4,
 "nbformat_minor": 5
}
