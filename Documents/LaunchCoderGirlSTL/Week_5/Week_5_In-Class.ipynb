{
 "cells": [
  {
   "cell_type": "markdown",
   "id": "0435cf4c",
   "metadata": {},
   "source": [
    "# Make a function that can take any non-negative integer as an argument and return it with its digits in descending order. Essentially, rearrange the digits to create the hightest possible number. If no number is passed in, make the default value inputted = 111111.\n",
    "\n",
    "## Input = 43905 Output = 95430\n",
    "\n",
    "## Input = 866543 Output = 866543\n",
    "\n"
   ]
  },
  {
   "cell_type": "code",
   "execution_count": null,
   "id": "a5b3e164",
   "metadata": {},
   "outputs": [],
   "source": [
    "function descendingOrder(n){\n",
    "return Number(n.toString().split('').sort((a,b)=> b-a).join(''));\n",
    "}\n"
   ]
  }
 ],
 "metadata": {
  "kernelspec": {
   "display_name": "Python 3 (ipykernel)",
   "language": "python",
   "name": "python3"
  },
  "language_info": {
   "codemirror_mode": {
    "name": "ipython",
    "version": 3
   },
   "file_extension": ".py",
   "mimetype": "text/x-python",
   "name": "python",
   "nbconvert_exporter": "python",
   "pygments_lexer": "ipython3",
   "version": "3.9.7"
  }
 },
 "nbformat": 4,
 "nbformat_minor": 5
}
